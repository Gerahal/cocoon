{
  "nbformat": 4,
  "nbformat_minor": 0,
  "metadata": {
    "colab": {
      "name": "api_air_quality.ipynb",
      "provenance": [],
      "collapsed_sections": [],
      "include_colab_link": true
    },
    "kernelspec": {
      "name": "python3",
      "display_name": "Python 3"
    }
  },
  "cells": [
    {
      "cell_type": "markdown",
      "metadata": {
        "id": "view-in-github",
        "colab_type": "text"
      },
      "source": [
        "<a href=\"https://colab.research.google.com/github/baudouindetruchis/cocoon/blob/master/api_air_quality.ipynb\" target=\"_parent\"><img src=\"https://colab.research.google.com/assets/colab-badge.svg\" alt=\"Open In Colab\"/></a>"
      ]
    },
    {
      "cell_type": "code",
      "metadata": {
        "id": "ywQ6Zhjk_BPC",
        "colab_type": "code",
        "colab": {}
      },
      "source": [
        "import requests"
      ],
      "execution_count": 0,
      "outputs": []
    },
    {
      "cell_type": "code",
      "metadata": {
        "id": "MHqyzVO0ASN8",
        "colab_type": "code",
        "colab": {}
      },
      "source": [
        "# comment pollution level\n",
        "def pollution_level(aqi):\n",
        "    if aqi in range(0,51):\n",
        "        return(\"Good\")\n",
        "    elif aqi in range(51,101):\n",
        "        return(\"Moderate\")\n",
        "    elif aqi in range(101,151):\n",
        "        return(\"Unhealthy for Sensitive Groups\")\n",
        "    elif aqi in range(151,201):\n",
        "        return(\"Unhealthy\")\n",
        "    elif aqi in range(201,301):\n",
        "        return(\"Very Unhealthy\")\n",
        "    elif aqi in range(301,500):\n",
        "        return(\"Hazardous\")\n",
        "    else:\n",
        "        return(1)"
      ],
      "execution_count": 0,
      "outputs": []
    },
    {
      "cell_type": "code",
      "metadata": {
        "id": "PeMI4kzhAgJz",
        "colab_type": "code",
        "colab": {}
      },
      "source": [
        "token = \"/?token=63173fa9593d35f079035e546535ee7b2ed4206c\"\n",
        "api = \"http://api.waqi.info/feed/\"\n",
        "\n",
        "# build url\n",
        "city = input(\"city: \")\n",
        "url = api + city.replace(\" \",\"%20\") + token\n",
        "print(url)\n",
        "\n",
        "# make the request\n",
        "json_data = requests.get(url).json()\n",
        "\n",
        "api_status = json_data[\"status\"]\n",
        "print(\"API status: \" + api_status + \"\\n\")\n",
        "\n",
        "# print information\n",
        "if api_status == \"ok\":\n",
        "    coor = json_data[\"data\"][\"city\"][\"geo\"]\n",
        "    print(\"coordinates: \" + str(coor))\n",
        "    \n",
        "    aqi = json_data[\"data\"][\"aqi\"]\n",
        "    print(\"AQI: \" + str(aqi))\n",
        "    print(\"air pollution level: \" + pollution_level(aqi))\n",
        "    \n",
        "    dom_pollutant = json_data[\"data\"][\"dominentpol\"]\n",
        "    print(\"dominant pollutant: \" + dom_pollutant + \"\\n\")\n",
        "    \n",
        "    for component in json_data[\"data\"][\"iaqi\"]:\n",
        "        print(component + \": \" + str(json_data[\"data\"][\"iaqi\"][component][\"v\"]))"
      ],
      "execution_count": 0,
      "outputs": []
    }
  ]
}