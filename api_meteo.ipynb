{
  "nbformat": 4,
  "nbformat_minor": 0,
  "metadata": {
    "colab": {
      "name": "api_meteo.ipynb",
      "provenance": [],
      "collapsed_sections": []
    },
    "kernelspec": {
      "name": "python3",
      "display_name": "Python 3"
    }
  },
  "cells": [
    {
      "cell_type": "code",
      "metadata": {
        "id": "UyUaIZ8MCd-S",
        "colab_type": "code",
        "colab": {}
      },
      "source": [
        "import requests\n",
        "from datetime import datetime"
      ],
      "execution_count": 0,
      "outputs": []
    },
    {
      "cell_type": "code",
      "metadata": {
        "id": "L0DywS4yCqjY",
        "colab_type": "code",
        "outputId": "2620e66b-7440-45e8-c707-890e1ff6ecf3",
        "colab": {
          "base_uri": "https://localhost:8080/",
          "height": 89
        }
      },
      "source": [
        "api = 'http://api.openweathermap.org/data/2.5/'\n",
        "get_weather_city = 'weather?q='                               # example: 'weather?q=Paris'\n",
        "parameter = '&units=metric'\n",
        "token = '&APPID=4d14ed52b307bb0a00d2ae2f932ed449'\n",
        "\n",
        "# build url\n",
        "city = input(\"city: \")\n",
        "url = api + get_weather_city + city + parameter + token\n",
        "print(url)\n",
        "\n",
        "# make the request\n",
        "json_data = requests.get(url).json()\n",
        "\n",
        "print(json_data)\n",
        "\n",
        "weather_desc = json_data['weather'][0]['description']\n",
        "\n",
        "humidity = json_data['main']['humidity']\n",
        "pressure = json_data['main']['pressure']\n",
        "temperature = json_data['main']['temp']                       # in celcius\n",
        "\n",
        "wind_speed = json_data['wind']['speed']                       # speed in m/s\n",
        "\n",
        "sunrise = datetime.fromtimestamp(json_data['sys']['sunrise']).strftime('%d-%m-%y')\n",
        "sunset = datetime.fromtimestamp(json_data['sys']['sunset']).strftime('%d-%m-%y')"
      ],
      "execution_count": 44,
      "outputs": [
        {
          "output_type": "stream",
          "text": [
            "city: paris\n",
            "http://api.openweathermap.org/data/2.5/weather?q=paris&units=metric&APPID=4d14ed52b307bb0a00d2ae2f932ed449\n",
            "{'coord': {'lon': 2.35, 'lat': 48.86}, 'weather': [{'id': 800, 'main': 'Clear', 'description': 'clear sky', 'icon': '01d'}], 'base': 'stations', 'main': {'temp': 23.49, 'pressure': 1021, 'humidity': 17, 'temp_min': 22, 'temp_max': 24.44}, 'visibility': 10000, 'wind': {'speed': 7.2, 'deg': 80}, 'clouds': {'all': 0}, 'dt': 1568992118, 'sys': {'type': 1, 'id': 6540, 'message': 0.0063, 'country': 'FR', 'sunrise': 1568957620, 'sunset': 1569002090}, 'timezone': 7200, 'id': 2988507, 'name': 'Paris', 'cod': 200}\n"
          ],
          "name": "stdout"
        }
      ]
    },
    {
      "cell_type": "code",
      "metadata": {
        "id": "1g73mmyCO8db",
        "colab_type": "code",
        "colab": {}
      },
      "source": [
        ""
      ],
      "execution_count": 0,
      "outputs": []
    }
  ]
}